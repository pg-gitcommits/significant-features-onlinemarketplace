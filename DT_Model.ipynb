{
  "nbformat": 4,
  "nbformat_minor": 0,
  "metadata": {
    "colab": {
      "name": "DT_Model.ipynb",
      "provenance": []
    },
    "kernelspec": {
      "name": "python3",
      "display_name": "Python 3"
    },
    "language_info": {
      "name": "python"
    }
  },
  "cells": [
    {
      "cell_type": "code",
      "execution_count": 1,
      "metadata": {
        "colab": {
          "base_uri": "https://localhost:8080/"
        },
        "id": "VVn-vYmc1emS",
        "outputId": "0cc1485c-3544-49b4-e5b0-80e53f275f5d"
      },
      "outputs": [
        {
          "output_type": "stream",
          "name": "stdout",
          "text": [
            "\n",
            "Usage:   \n",
            "  pip3 install [options] <requirement specifier> [package-index-options] ...\n",
            "  pip3 install [options] -r <requirements file> [package-index-options] ...\n",
            "  pip3 install [options] [-e] <vcs project url> ...\n",
            "  pip3 install [options] [-e] <local project path> ...\n",
            "  pip3 install [options] <archive url/path> ...\n",
            "\n",
            "no such option: --yes\n",
            "\n",
            "Usage:   \n",
            "  pip3 install [options] <requirement specifier> [package-index-options] ...\n",
            "  pip3 install [options] -r <requirements file> [package-index-options] ...\n",
            "  pip3 install [options] [-e] <vcs project url> ...\n",
            "  pip3 install [options] [-e] <local project path> ...\n",
            "  pip3 install [options] <archive url/path> ...\n",
            "\n",
            "no such option: --yes\n"
          ]
        }
      ],
      "source": [
        "import pandas as pd\n",
        "import numpy as np\n",
        "import warnings\n",
        "from sklearn.preprocessing import MinMaxScaler\n",
        "from sklearn.model_selection import train_test_split\n",
        "from sklearn.metrics import confusion_matrix\n",
        "from sklearn import tree\n",
        "from sklearn.model_selection import GridSearchCV\n",
        "warnings.filterwarnings('ignore')\n",
        "\n",
        "import graphviz\n",
        "!pip install --yes python-graphviz\n",
        "!pip install --yes graphviz\n",
        "\n",
        "import matplotlib.pyplot as plt"
      ]
    },
    {
      "cell_type": "code",
      "source": [
        "data_1 = pd.read_csv('/content/drive/MyDrive/merge_all_3_sa.csv')"
      ],
      "metadata": {
        "id": "H8hemHE81ppL"
      },
      "execution_count": 2,
      "outputs": []
    },
    {
      "cell_type": "code",
      "source": [
        "data_1.shape"
      ],
      "metadata": {
        "colab": {
          "base_uri": "https://localhost:8080/"
        },
        "id": "7HqzIaQ818pg",
        "outputId": "f373cf37-8130-40e8-832e-8654c828dcfc"
      },
      "execution_count": 3,
      "outputs": [
        {
          "output_type": "execute_result",
          "data": {
            "text/plain": [
              "(105508, 51)"
            ]
          },
          "metadata": {},
          "execution_count": 3
        }
      ]
    },
    {
      "cell_type": "code",
      "source": [
        "data_1.head()"
      ],
      "metadata": {
        "colab": {
          "base_uri": "https://localhost:8080/",
          "height": 456
        },
        "id": "4QdQqytJ2Y3g",
        "outputId": "fa188d05-a2e4-401e-de0f-1c37317c4a5a"
      },
      "execution_count": 4,
      "outputs": [
        {
          "output_type": "execute_result",
          "data": {
            "text/plain": [
              "      id                       created_by      created_date  \\\n",
              "0  21654  christina.andreasen@k-tainer.eu  05-06-2018 15:12   \n",
              "1  21556                   mod@cfscon.com  05-06-2018 07:23   \n",
              "2  21556                   mod@cfscon.com  05-06-2018 07:23   \n",
              "3  21556                   mod@cfscon.com  05-06-2018 07:23   \n",
              "4  21547                   mod@cfscon.com  05-06-2018 07:13   \n",
              "\n",
              "                  last_modified_by last_modified_date  emails_deactivated  \\\n",
              "0  christina.andreasen@k-tainer.eu   27-07-2018 11:43                   0   \n",
              "1                tony@tradecorp.hk   05-06-2018 16:19                   0   \n",
              "2                tony@tradecorp.hk   05-06-2018 16:19                   0   \n",
              "3                tony@tradecorp.hk   05-06-2018 16:19                   0   \n",
              "4                tony@tradecorp.hk   05-06-2018 16:19                   0   \n",
              "\n",
              "   manual_request  tracking_only  invoicing  surveyor  ...  user_has_visited  \\\n",
              "0               1              0          0         0  ...                 0   \n",
              "1               1              0          0         0  ...                 0   \n",
              "2               1              0          0         0  ...                 0   \n",
              "3               1              0          0         0  ...                 0   \n",
              "4               1              0          0         0  ...                 0   \n",
              "\n",
              "  supplier_has_visited  equipment_count       equipment_type  \\\n",
              "0                    0               20  FORTY_DRY_CONTAINER   \n",
              "1                    0                2  FORTY_DRY_CONTAINER   \n",
              "2                    0                2  FORTY_DRY_CONTAINER   \n",
              "3                    0                2  FORTY_DRY_CONTAINER   \n",
              "4                    0                6  FORTY_DRY_CONTAINER   \n",
              "\n",
              "                  event  user_id  impersonated    created_date.1  company_id  \\\n",
              "0  View Request Details      507             0  05-06-2018 16:16         115   \n",
              "1  View Request Details      343             1  05-06-2018 16:19          92   \n",
              "2        Reject Request      343             1  05-06-2018 16:19          92   \n",
              "3  View Request Details      343             1  05-06-2018 16:19          92   \n",
              "4  View Request Details      343             1  05-06-2018 16:19          92   \n",
              "\n",
              "   request_id.1  \n",
              "0         21654  \n",
              "1         21556  \n",
              "2         21556  \n",
              "3         21556  \n",
              "4         21547  \n",
              "\n",
              "[5 rows x 51 columns]"
            ],
            "text/html": [
              "\n",
              "  <div id=\"df-a3f80bee-6e9e-4e46-b34a-2f522f68080e\">\n",
              "    <div class=\"colab-df-container\">\n",
              "      <div>\n",
              "<style scoped>\n",
              "    .dataframe tbody tr th:only-of-type {\n",
              "        vertical-align: middle;\n",
              "    }\n",
              "\n",
              "    .dataframe tbody tr th {\n",
              "        vertical-align: top;\n",
              "    }\n",
              "\n",
              "    .dataframe thead th {\n",
              "        text-align: right;\n",
              "    }\n",
              "</style>\n",
              "<table border=\"1\" class=\"dataframe\">\n",
              "  <thead>\n",
              "    <tr style=\"text-align: right;\">\n",
              "      <th></th>\n",
              "      <th>id</th>\n",
              "      <th>created_by</th>\n",
              "      <th>created_date</th>\n",
              "      <th>last_modified_by</th>\n",
              "      <th>last_modified_date</th>\n",
              "      <th>emails_deactivated</th>\n",
              "      <th>manual_request</th>\n",
              "      <th>tracking_only</th>\n",
              "      <th>invoicing</th>\n",
              "      <th>surveyor</th>\n",
              "      <th>...</th>\n",
              "      <th>user_has_visited</th>\n",
              "      <th>supplier_has_visited</th>\n",
              "      <th>equipment_count</th>\n",
              "      <th>equipment_type</th>\n",
              "      <th>event</th>\n",
              "      <th>user_id</th>\n",
              "      <th>impersonated</th>\n",
              "      <th>created_date.1</th>\n",
              "      <th>company_id</th>\n",
              "      <th>request_id.1</th>\n",
              "    </tr>\n",
              "  </thead>\n",
              "  <tbody>\n",
              "    <tr>\n",
              "      <th>0</th>\n",
              "      <td>21654</td>\n",
              "      <td>christina.andreasen@k-tainer.eu</td>\n",
              "      <td>05-06-2018 15:12</td>\n",
              "      <td>christina.andreasen@k-tainer.eu</td>\n",
              "      <td>27-07-2018 11:43</td>\n",
              "      <td>0</td>\n",
              "      <td>1</td>\n",
              "      <td>0</td>\n",
              "      <td>0</td>\n",
              "      <td>0</td>\n",
              "      <td>...</td>\n",
              "      <td>0</td>\n",
              "      <td>0</td>\n",
              "      <td>20</td>\n",
              "      <td>FORTY_DRY_CONTAINER</td>\n",
              "      <td>View Request Details</td>\n",
              "      <td>507</td>\n",
              "      <td>0</td>\n",
              "      <td>05-06-2018 16:16</td>\n",
              "      <td>115</td>\n",
              "      <td>21654</td>\n",
              "    </tr>\n",
              "    <tr>\n",
              "      <th>1</th>\n",
              "      <td>21556</td>\n",
              "      <td>mod@cfscon.com</td>\n",
              "      <td>05-06-2018 07:23</td>\n",
              "      <td>tony@tradecorp.hk</td>\n",
              "      <td>05-06-2018 16:19</td>\n",
              "      <td>0</td>\n",
              "      <td>1</td>\n",
              "      <td>0</td>\n",
              "      <td>0</td>\n",
              "      <td>0</td>\n",
              "      <td>...</td>\n",
              "      <td>0</td>\n",
              "      <td>0</td>\n",
              "      <td>2</td>\n",
              "      <td>FORTY_DRY_CONTAINER</td>\n",
              "      <td>View Request Details</td>\n",
              "      <td>343</td>\n",
              "      <td>1</td>\n",
              "      <td>05-06-2018 16:19</td>\n",
              "      <td>92</td>\n",
              "      <td>21556</td>\n",
              "    </tr>\n",
              "    <tr>\n",
              "      <th>2</th>\n",
              "      <td>21556</td>\n",
              "      <td>mod@cfscon.com</td>\n",
              "      <td>05-06-2018 07:23</td>\n",
              "      <td>tony@tradecorp.hk</td>\n",
              "      <td>05-06-2018 16:19</td>\n",
              "      <td>0</td>\n",
              "      <td>1</td>\n",
              "      <td>0</td>\n",
              "      <td>0</td>\n",
              "      <td>0</td>\n",
              "      <td>...</td>\n",
              "      <td>0</td>\n",
              "      <td>0</td>\n",
              "      <td>2</td>\n",
              "      <td>FORTY_DRY_CONTAINER</td>\n",
              "      <td>Reject Request</td>\n",
              "      <td>343</td>\n",
              "      <td>1</td>\n",
              "      <td>05-06-2018 16:19</td>\n",
              "      <td>92</td>\n",
              "      <td>21556</td>\n",
              "    </tr>\n",
              "    <tr>\n",
              "      <th>3</th>\n",
              "      <td>21556</td>\n",
              "      <td>mod@cfscon.com</td>\n",
              "      <td>05-06-2018 07:23</td>\n",
              "      <td>tony@tradecorp.hk</td>\n",
              "      <td>05-06-2018 16:19</td>\n",
              "      <td>0</td>\n",
              "      <td>1</td>\n",
              "      <td>0</td>\n",
              "      <td>0</td>\n",
              "      <td>0</td>\n",
              "      <td>...</td>\n",
              "      <td>0</td>\n",
              "      <td>0</td>\n",
              "      <td>2</td>\n",
              "      <td>FORTY_DRY_CONTAINER</td>\n",
              "      <td>View Request Details</td>\n",
              "      <td>343</td>\n",
              "      <td>1</td>\n",
              "      <td>05-06-2018 16:19</td>\n",
              "      <td>92</td>\n",
              "      <td>21556</td>\n",
              "    </tr>\n",
              "    <tr>\n",
              "      <th>4</th>\n",
              "      <td>21547</td>\n",
              "      <td>mod@cfscon.com</td>\n",
              "      <td>05-06-2018 07:13</td>\n",
              "      <td>tony@tradecorp.hk</td>\n",
              "      <td>05-06-2018 16:19</td>\n",
              "      <td>0</td>\n",
              "      <td>1</td>\n",
              "      <td>0</td>\n",
              "      <td>0</td>\n",
              "      <td>0</td>\n",
              "      <td>...</td>\n",
              "      <td>0</td>\n",
              "      <td>0</td>\n",
              "      <td>6</td>\n",
              "      <td>FORTY_DRY_CONTAINER</td>\n",
              "      <td>View Request Details</td>\n",
              "      <td>343</td>\n",
              "      <td>1</td>\n",
              "      <td>05-06-2018 16:19</td>\n",
              "      <td>92</td>\n",
              "      <td>21547</td>\n",
              "    </tr>\n",
              "  </tbody>\n",
              "</table>\n",
              "<p>5 rows × 51 columns</p>\n",
              "</div>\n",
              "      <button class=\"colab-df-convert\" onclick=\"convertToInteractive('df-a3f80bee-6e9e-4e46-b34a-2f522f68080e')\"\n",
              "              title=\"Convert this dataframe to an interactive table.\"\n",
              "              style=\"display:none;\">\n",
              "        \n",
              "  <svg xmlns=\"http://www.w3.org/2000/svg\" height=\"24px\"viewBox=\"0 0 24 24\"\n",
              "       width=\"24px\">\n",
              "    <path d=\"M0 0h24v24H0V0z\" fill=\"none\"/>\n",
              "    <path d=\"M18.56 5.44l.94 2.06.94-2.06 2.06-.94-2.06-.94-.94-2.06-.94 2.06-2.06.94zm-11 1L8.5 8.5l.94-2.06 2.06-.94-2.06-.94L8.5 2.5l-.94 2.06-2.06.94zm10 10l.94 2.06.94-2.06 2.06-.94-2.06-.94-.94-2.06-.94 2.06-2.06.94z\"/><path d=\"M17.41 7.96l-1.37-1.37c-.4-.4-.92-.59-1.43-.59-.52 0-1.04.2-1.43.59L10.3 9.45l-7.72 7.72c-.78.78-.78 2.05 0 2.83L4 21.41c.39.39.9.59 1.41.59.51 0 1.02-.2 1.41-.59l7.78-7.78 2.81-2.81c.8-.78.8-2.07 0-2.86zM5.41 20L4 18.59l7.72-7.72 1.47 1.35L5.41 20z\"/>\n",
              "  </svg>\n",
              "      </button>\n",
              "      \n",
              "  <style>\n",
              "    .colab-df-container {\n",
              "      display:flex;\n",
              "      flex-wrap:wrap;\n",
              "      gap: 12px;\n",
              "    }\n",
              "\n",
              "    .colab-df-convert {\n",
              "      background-color: #E8F0FE;\n",
              "      border: none;\n",
              "      border-radius: 50%;\n",
              "      cursor: pointer;\n",
              "      display: none;\n",
              "      fill: #1967D2;\n",
              "      height: 32px;\n",
              "      padding: 0 0 0 0;\n",
              "      width: 32px;\n",
              "    }\n",
              "\n",
              "    .colab-df-convert:hover {\n",
              "      background-color: #E2EBFA;\n",
              "      box-shadow: 0px 1px 2px rgba(60, 64, 67, 0.3), 0px 1px 3px 1px rgba(60, 64, 67, 0.15);\n",
              "      fill: #174EA6;\n",
              "    }\n",
              "\n",
              "    [theme=dark] .colab-df-convert {\n",
              "      background-color: #3B4455;\n",
              "      fill: #D2E3FC;\n",
              "    }\n",
              "\n",
              "    [theme=dark] .colab-df-convert:hover {\n",
              "      background-color: #434B5C;\n",
              "      box-shadow: 0px 1px 3px 1px rgba(0, 0, 0, 0.15);\n",
              "      filter: drop-shadow(0px 1px 2px rgba(0, 0, 0, 0.3));\n",
              "      fill: #FFFFFF;\n",
              "    }\n",
              "  </style>\n",
              "\n",
              "      <script>\n",
              "        const buttonEl =\n",
              "          document.querySelector('#df-a3f80bee-6e9e-4e46-b34a-2f522f68080e button.colab-df-convert');\n",
              "        buttonEl.style.display =\n",
              "          google.colab.kernel.accessAllowed ? 'block' : 'none';\n",
              "\n",
              "        async function convertToInteractive(key) {\n",
              "          const element = document.querySelector('#df-a3f80bee-6e9e-4e46-b34a-2f522f68080e');\n",
              "          const dataTable =\n",
              "            await google.colab.kernel.invokeFunction('convertToInteractive',\n",
              "                                                     [key], {});\n",
              "          if (!dataTable) return;\n",
              "\n",
              "          const docLinkHtml = 'Like what you see? Visit the ' +\n",
              "            '<a target=\"_blank\" href=https://colab.research.google.com/notebooks/data_table.ipynb>data table notebook</a>'\n",
              "            + ' to learn more about interactive tables.';\n",
              "          element.innerHTML = '';\n",
              "          dataTable['output_type'] = 'display_data';\n",
              "          await google.colab.output.renderOutput(dataTable, element);\n",
              "          const docLink = document.createElement('div');\n",
              "          docLink.innerHTML = docLinkHtml;\n",
              "          element.appendChild(docLink);\n",
              "        }\n",
              "      </script>\n",
              "    </div>\n",
              "  </div>\n",
              "  "
            ]
          },
          "metadata": {},
          "execution_count": 4
        }
      ]
    },
    {
      "cell_type": "code",
      "source": [
        "data_1['sentiment'].fillna(\"neutral\", inplace = True)"
      ],
      "metadata": {
        "id": "_6VAB3g25vPZ"
      },
      "execution_count": 15,
      "outputs": []
    },
    {
      "cell_type": "code",
      "source": [
        "data_1.columns"
      ],
      "metadata": {
        "colab": {
          "base_uri": "https://localhost:8080/"
        },
        "id": "3vcX3Qf21-ns",
        "outputId": "16e2956d-a98e-4eca-cc5c-aaf91566062b"
      },
      "execution_count": 4,
      "outputs": [
        {
          "output_type": "execute_result",
          "data": {
            "text/plain": [
              "Index(['id', 'created_by', 'created_date', 'last_modified_by',\n",
              "       'last_modified_date', 'emails_deactivated', 'manual_request',\n",
              "       'tracking_only', 'invoicing', 'surveyor', 'auto_time_out_expires_soon',\n",
              "       'source', 'decline_after_accept', 'assisted_transaction',\n",
              "       'active_matchmaking', 'insurance_only', 'critical', 'leasing',\n",
              "       'prepayment_of_charge', 'no_payment_guarantee', 'grey_zone_agreed',\n",
              "       'has_damage_claim', 'requester_id', 'addressee_id', 'direction',\n",
              "       'last_modified_date.1', 'request_id', 'version', 'editor_id', 'comment',\n",
              "       'sentiment', 'status', 'request_reject_reason_id', 'pickup_charge',\n",
              "       'pickup_charge_payer_id', 'damage_protection_plan', 'per_diem',\n",
              "       'free_days', 'total_loss_insurance', 'damage_protection_insurance',\n",
              "       'original_id', 'user_has_visited', 'supplier_has_visited',\n",
              "       'equipment_count', 'equipment_type', 'event', 'user_id', 'impersonated',\n",
              "       'created_date.1', 'company_id', 'request_id.1'],\n",
              "      dtype='object')"
            ]
          },
          "metadata": {},
          "execution_count": 4
        }
      ]
    },
    {
      "cell_type": "code",
      "source": [
        "data_1.nunique()"
      ],
      "metadata": {
        "colab": {
          "base_uri": "https://localhost:8080/"
        },
        "id": "VdgVPC9v4gm2",
        "outputId": "124630d9-fcba-4bb3-df94-85d3ef414e63"
      },
      "execution_count": 41,
      "outputs": [
        {
          "output_type": "execute_result",
          "data": {
            "text/plain": [
              "id                             16075\n",
              "created_by                       357\n",
              "created_date                    9302\n",
              "last_modified_by                 367\n",
              "last_modified_date              9733\n",
              "emails_deactivated                 2\n",
              "manual_request                     2\n",
              "tracking_only                      2\n",
              "invoicing                          2\n",
              "surveyor                           2\n",
              "auto_time_out_expires_soon         2\n",
              "source                             2\n",
              "decline_after_accept               2\n",
              "assisted_transaction               2\n",
              "active_matchmaking                 1\n",
              "insurance_only                     2\n",
              "critical                           2\n",
              "leasing                            1\n",
              "prepayment_of_charge               1\n",
              "no_payment_guarantee               1\n",
              "grey_zone_agreed                   1\n",
              "has_damage_claim                   2\n",
              "requester_id                     209\n",
              "addressee_id                     276\n",
              "direction                          2\n",
              "last_modified_date.1           10068\n",
              "request_id                     16075\n",
              "version                           18\n",
              "editor_id                        484\n",
              "comment                          793\n",
              "sentiment                          4\n",
              "status                             4\n",
              "request_reject_reason_id          34\n",
              "pickup_charge                     64\n",
              "pickup_charge_payer_id           243\n",
              "damage_protection_plan            30\n",
              "per_diem                          67\n",
              "free_days                         50\n",
              "total_loss_insurance               2\n",
              "damage_protection_insurance        1\n",
              "original_id                     2838\n",
              "user_has_visited                   2\n",
              "supplier_has_visited               2\n",
              "equipment_count                  103\n",
              "equipment_type                    28\n",
              "event                              4\n",
              "user_id                          432\n",
              "impersonated                       2\n",
              "created_date.1                 51042\n",
              "company_id                       212\n",
              "request_id.1                   16075\n",
              "dtype: int64"
            ]
          },
          "metadata": {},
          "execution_count": 41
        }
      ]
    },
    {
      "cell_type": "code",
      "source": [
        "drop_list = ['id','created_by', 'created_date', 'last_modified_by', 'last_modified_date','active_matchmaking', 'requester_id', \n",
        "             'addressee_id', 'last_modified_date.1', 'request_id', 'editor_id', 'comment', 'pickup_charge_payer_id', 'original_id',\n",
        "             'damage_protection_insurance', 'user_id', 'created_date.1', 'company_id', 'request_id.1', 'source']"
      ],
      "metadata": {
        "id": "SbzsuJbe2gmh"
      },
      "execution_count": 33,
      "outputs": []
    },
    {
      "cell_type": "code",
      "source": [
        "data_2 = data_1.drop(drop_list,axis =1)"
      ],
      "metadata": {
        "id": "M4vz06Ut-T2F"
      },
      "execution_count": 80,
      "outputs": []
    },
    {
      "cell_type": "code",
      "source": [
        "data_2.shape"
      ],
      "metadata": {
        "colab": {
          "base_uri": "https://localhost:8080/"
        },
        "id": "upJ3XU_r-dC2",
        "outputId": "d70b66da-f075-4526-f958-bf3127727a0f"
      },
      "execution_count": 81,
      "outputs": [
        {
          "output_type": "execute_result",
          "data": {
            "text/plain": [
              "(105508, 31)"
            ]
          },
          "metadata": {},
          "execution_count": 81
        }
      ]
    },
    {
      "cell_type": "code",
      "source": [
        "data_2.dtypes"
      ],
      "metadata": {
        "colab": {
          "base_uri": "https://localhost:8080/"
        },
        "id": "eQkWH1pn-l8C",
        "outputId": "e950a7fb-8ca1-4a39-d4f9-b065ddc5d5f9"
      },
      "execution_count": 82,
      "outputs": [
        {
          "output_type": "execute_result",
          "data": {
            "text/plain": [
              "emails_deactivated              int64\n",
              "manual_request                  int64\n",
              "tracking_only                   int64\n",
              "invoicing                       int64\n",
              "surveyor                        int64\n",
              "auto_time_out_expires_soon      int64\n",
              "decline_after_accept            int64\n",
              "assisted_transaction            int64\n",
              "insurance_only                  int64\n",
              "critical                        int64\n",
              "leasing                         int64\n",
              "prepayment_of_charge            int64\n",
              "no_payment_guarantee            int64\n",
              "grey_zone_agreed                int64\n",
              "has_damage_claim                int64\n",
              "direction                      object\n",
              "version                         int64\n",
              "sentiment                      object\n",
              "status                         object\n",
              "request_reject_reason_id        int64\n",
              "pickup_charge                   int64\n",
              "damage_protection_plan        float64\n",
              "per_diem                      float64\n",
              "free_days                       int64\n",
              "total_loss_insurance            int64\n",
              "user_has_visited                int64\n",
              "supplier_has_visited            int64\n",
              "equipment_count                 int64\n",
              "equipment_type                 object\n",
              "event                          object\n",
              "impersonated                    int64\n",
              "dtype: object"
            ]
          },
          "metadata": {},
          "execution_count": 82
        }
      ]
    },
    {
      "cell_type": "code",
      "source": [
        "data_2.nunique()"
      ],
      "metadata": {
        "colab": {
          "base_uri": "https://localhost:8080/"
        },
        "id": "6y2oxt3T2oZA",
        "outputId": "f14ff090-e85e-4984-d356-cf95b6d07918"
      },
      "execution_count": 83,
      "outputs": [
        {
          "output_type": "execute_result",
          "data": {
            "text/plain": [
              "emails_deactivated              2\n",
              "manual_request                  2\n",
              "tracking_only                   2\n",
              "invoicing                       2\n",
              "surveyor                        2\n",
              "auto_time_out_expires_soon      2\n",
              "decline_after_accept            2\n",
              "assisted_transaction            2\n",
              "insurance_only                  2\n",
              "critical                        2\n",
              "leasing                         1\n",
              "prepayment_of_charge            1\n",
              "no_payment_guarantee            1\n",
              "grey_zone_agreed                1\n",
              "has_damage_claim                2\n",
              "direction                       2\n",
              "version                        18\n",
              "sentiment                       4\n",
              "status                          4\n",
              "request_reject_reason_id       34\n",
              "pickup_charge                  64\n",
              "damage_protection_plan         30\n",
              "per_diem                       67\n",
              "free_days                      50\n",
              "total_loss_insurance            2\n",
              "user_has_visited                2\n",
              "supplier_has_visited            2\n",
              "equipment_count               103\n",
              "equipment_type                 28\n",
              "event                           4\n",
              "impersonated                    2\n",
              "dtype: int64"
            ]
          },
          "metadata": {},
          "execution_count": 83
        }
      ]
    },
    {
      "cell_type": "code",
      "source": [
        "for col in ['emails_deactivated', 'manual_request', 'tracking_only', 'invoicing', 'surveyor', 'auto_time_out_expires_soon', 'decline_after_accept',\n",
        "       'assisted_transaction', 'insurance_only', 'critical', 'leasing', 'prepayment_of_charge', 'no_payment_guarantee', 'grey_zone_agreed',\n",
        "       'has_damage_claim', 'direction', 'version', 'sentiment', 'status', 'request_reject_reason_id', 'total_loss_insurance', 'user_has_visited',\n",
        "       'supplier_has_visited', 'equipment_type', 'event','impersonated']:\n",
        "    data_2[col] = data_2[col].astype('category')"
      ],
      "metadata": {
        "id": "u8uhi-q8-pb9"
      },
      "execution_count": 84,
      "outputs": []
    },
    {
      "cell_type": "code",
      "source": [
        "data_2.dtypes"
      ],
      "metadata": {
        "colab": {
          "base_uri": "https://localhost:8080/"
        },
        "id": "JDpAolWpBDTk",
        "outputId": "14e5ae7a-2500-407f-bb1c-85d42e148b9d"
      },
      "execution_count": 85,
      "outputs": [
        {
          "output_type": "execute_result",
          "data": {
            "text/plain": [
              "emails_deactivated            category\n",
              "manual_request                category\n",
              "tracking_only                 category\n",
              "invoicing                     category\n",
              "surveyor                      category\n",
              "auto_time_out_expires_soon    category\n",
              "decline_after_accept          category\n",
              "assisted_transaction          category\n",
              "insurance_only                category\n",
              "critical                      category\n",
              "leasing                       category\n",
              "prepayment_of_charge          category\n",
              "no_payment_guarantee          category\n",
              "grey_zone_agreed              category\n",
              "has_damage_claim              category\n",
              "direction                     category\n",
              "version                       category\n",
              "sentiment                     category\n",
              "status                        category\n",
              "request_reject_reason_id      category\n",
              "pickup_charge                    int64\n",
              "damage_protection_plan         float64\n",
              "per_diem                       float64\n",
              "free_days                        int64\n",
              "total_loss_insurance          category\n",
              "user_has_visited              category\n",
              "supplier_has_visited          category\n",
              "equipment_count                  int64\n",
              "equipment_type                category\n",
              "event                         category\n",
              "impersonated                  category\n",
              "dtype: object"
            ]
          },
          "metadata": {},
          "execution_count": 85
        }
      ]
    },
    {
      "cell_type": "code",
      "source": [
        "data_2['status'].unique()"
      ],
      "metadata": {
        "colab": {
          "base_uri": "https://localhost:8080/"
        },
        "id": "eeTkP23wCvB4",
        "outputId": "29773d7f-01d8-41e0-b9bf-d53b2cb2d662"
      },
      "execution_count": 86,
      "outputs": [
        {
          "output_type": "execute_result",
          "data": {
            "text/plain": [
              "['CANCELLED', 'EMPTY_RETURNED', 'READY_FOR_PICKUP', 'PICKED_UP']\n",
              "Categories (4, object): ['CANCELLED', 'EMPTY_RETURNED', 'PICKED_UP', 'READY_FOR_PICKUP']"
            ]
          },
          "metadata": {},
          "execution_count": 86
        }
      ]
    },
    {
      "cell_type": "markdown",
      "source": [
        "Creating Target Variable"
      ],
      "metadata": {
        "id": "PaZPhVEzB-rw"
      }
    },
    {
      "cell_type": "code",
      "source": [
        "for i in range(len(data_2)):\n",
        "    if(data_2.loc[i, 'status'] == 'CANCELLED'):\n",
        "        data_2.loc[i, 'target_status'] = 0\n",
        "    else:\n",
        "      data_2.loc[i, 'target_status'] = 1       "
      ],
      "metadata": {
        "id": "4BUqRMlJCgqE"
      },
      "execution_count": 87,
      "outputs": []
    },
    {
      "cell_type": "code",
      "source": [
        "data_2.drop('status', axis = 1, inplace = True)"
      ],
      "metadata": {
        "id": "sJ0BOIZOF_q3"
      },
      "execution_count": 89,
      "outputs": []
    },
    {
      "cell_type": "code",
      "source": [
        "data_2['target_status'] = data_2['target_status'].astype('category')"
      ],
      "metadata": {
        "id": "AuFPRfgeMHYe"
      },
      "execution_count": 91,
      "outputs": []
    },
    {
      "cell_type": "code",
      "source": [
        "pd.value_counts(data_2['target_status'].values)"
      ],
      "metadata": {
        "colab": {
          "base_uri": "https://localhost:8080/"
        },
        "id": "l7onHR_eMTKr",
        "outputId": "7a4a159c-001d-4581-db52-5030d2b3f838"
      },
      "execution_count": 92,
      "outputs": [
        {
          "output_type": "execute_result",
          "data": {
            "text/plain": [
              "0.0    74314\n",
              "1.0    31194\n",
              "dtype: int64"
            ]
          },
          "metadata": {},
          "execution_count": 92
        }
      ]
    },
    {
      "cell_type": "markdown",
      "source": [
        "Normalization"
      ],
      "metadata": {
        "id": "2x0Mc4kQGXqV"
      }
    },
    {
      "cell_type": "code",
      "source": [
        "norm_list = ['pickup_charge','damage_protection_plan', 'per_diem', 'free_days', 'equipment_count']"
      ],
      "metadata": {
        "id": "5OOmKuiSGUvP"
      },
      "execution_count": 95,
      "outputs": []
    },
    {
      "cell_type": "code",
      "source": [
        "min_max_scaler = MinMaxScaler()\n",
        "data_2[['pickup_charge','damage_protection_plan', 'per_diem', 'free_days', 'equipment_count']]  = min_max_scaler.fit_transform(data_2[['pickup_charge','damage_protection_plan', 'per_diem', 'free_days', 'equipment_count']])"
      ],
      "metadata": {
        "id": "WPUXj8BXKhP9"
      },
      "execution_count": 97,
      "outputs": []
    },
    {
      "cell_type": "code",
      "source": [
        "data_2.describe()"
      ],
      "metadata": {
        "colab": {
          "base_uri": "https://localhost:8080/",
          "height": 300
        },
        "id": "ACIrxFN2Je9i",
        "outputId": "73142a05-97a7-4554-c1b2-0d1d2467da38"
      },
      "execution_count": 142,
      "outputs": [
        {
          "output_type": "execute_result",
          "data": {
            "text/plain": [
              "       pickup_charge  damage_protection_plan       per_diem      free_days  \\\n",
              "count  105508.000000           105508.000000  105508.000000  105508.000000   \n",
              "mean        0.001622                0.009606       0.019843       0.010405   \n",
              "std         0.012904                0.007807       0.009424       0.009387   \n",
              "min         0.000000                0.000000       0.000000       0.000000   \n",
              "25%         0.000000                0.010099       0.015873       0.006557   \n",
              "50%         0.000000                0.010099       0.015873       0.009836   \n",
              "75%         0.002000                0.010099       0.023810       0.013115   \n",
              "max         1.000000                1.000000       1.000000       1.000000   \n",
              "\n",
              "       equipment_count  \n",
              "count    105508.000000  \n",
              "mean          0.000910  \n",
              "std           0.003459  \n",
              "min           0.000000  \n",
              "25%           0.000199  \n",
              "50%           0.000448  \n",
              "75%           0.000945  \n",
              "max           1.000000  "
            ],
            "text/html": [
              "\n",
              "  <div id=\"df-b5b702e7-0ddb-4db6-971b-a8510b0c91c1\">\n",
              "    <div class=\"colab-df-container\">\n",
              "      <div>\n",
              "<style scoped>\n",
              "    .dataframe tbody tr th:only-of-type {\n",
              "        vertical-align: middle;\n",
              "    }\n",
              "\n",
              "    .dataframe tbody tr th {\n",
              "        vertical-align: top;\n",
              "    }\n",
              "\n",
              "    .dataframe thead th {\n",
              "        text-align: right;\n",
              "    }\n",
              "</style>\n",
              "<table border=\"1\" class=\"dataframe\">\n",
              "  <thead>\n",
              "    <tr style=\"text-align: right;\">\n",
              "      <th></th>\n",
              "      <th>pickup_charge</th>\n",
              "      <th>damage_protection_plan</th>\n",
              "      <th>per_diem</th>\n",
              "      <th>free_days</th>\n",
              "      <th>equipment_count</th>\n",
              "    </tr>\n",
              "  </thead>\n",
              "  <tbody>\n",
              "    <tr>\n",
              "      <th>count</th>\n",
              "      <td>105508.000000</td>\n",
              "      <td>105508.000000</td>\n",
              "      <td>105508.000000</td>\n",
              "      <td>105508.000000</td>\n",
              "      <td>105508.000000</td>\n",
              "    </tr>\n",
              "    <tr>\n",
              "      <th>mean</th>\n",
              "      <td>0.001622</td>\n",
              "      <td>0.009606</td>\n",
              "      <td>0.019843</td>\n",
              "      <td>0.010405</td>\n",
              "      <td>0.000910</td>\n",
              "    </tr>\n",
              "    <tr>\n",
              "      <th>std</th>\n",
              "      <td>0.012904</td>\n",
              "      <td>0.007807</td>\n",
              "      <td>0.009424</td>\n",
              "      <td>0.009387</td>\n",
              "      <td>0.003459</td>\n",
              "    </tr>\n",
              "    <tr>\n",
              "      <th>min</th>\n",
              "      <td>0.000000</td>\n",
              "      <td>0.000000</td>\n",
              "      <td>0.000000</td>\n",
              "      <td>0.000000</td>\n",
              "      <td>0.000000</td>\n",
              "    </tr>\n",
              "    <tr>\n",
              "      <th>25%</th>\n",
              "      <td>0.000000</td>\n",
              "      <td>0.010099</td>\n",
              "      <td>0.015873</td>\n",
              "      <td>0.006557</td>\n",
              "      <td>0.000199</td>\n",
              "    </tr>\n",
              "    <tr>\n",
              "      <th>50%</th>\n",
              "      <td>0.000000</td>\n",
              "      <td>0.010099</td>\n",
              "      <td>0.015873</td>\n",
              "      <td>0.009836</td>\n",
              "      <td>0.000448</td>\n",
              "    </tr>\n",
              "    <tr>\n",
              "      <th>75%</th>\n",
              "      <td>0.002000</td>\n",
              "      <td>0.010099</td>\n",
              "      <td>0.023810</td>\n",
              "      <td>0.013115</td>\n",
              "      <td>0.000945</td>\n",
              "    </tr>\n",
              "    <tr>\n",
              "      <th>max</th>\n",
              "      <td>1.000000</td>\n",
              "      <td>1.000000</td>\n",
              "      <td>1.000000</td>\n",
              "      <td>1.000000</td>\n",
              "      <td>1.000000</td>\n",
              "    </tr>\n",
              "  </tbody>\n",
              "</table>\n",
              "</div>\n",
              "      <button class=\"colab-df-convert\" onclick=\"convertToInteractive('df-b5b702e7-0ddb-4db6-971b-a8510b0c91c1')\"\n",
              "              title=\"Convert this dataframe to an interactive table.\"\n",
              "              style=\"display:none;\">\n",
              "        \n",
              "  <svg xmlns=\"http://www.w3.org/2000/svg\" height=\"24px\"viewBox=\"0 0 24 24\"\n",
              "       width=\"24px\">\n",
              "    <path d=\"M0 0h24v24H0V0z\" fill=\"none\"/>\n",
              "    <path d=\"M18.56 5.44l.94 2.06.94-2.06 2.06-.94-2.06-.94-.94-2.06-.94 2.06-2.06.94zm-11 1L8.5 8.5l.94-2.06 2.06-.94-2.06-.94L8.5 2.5l-.94 2.06-2.06.94zm10 10l.94 2.06.94-2.06 2.06-.94-2.06-.94-.94-2.06-.94 2.06-2.06.94z\"/><path d=\"M17.41 7.96l-1.37-1.37c-.4-.4-.92-.59-1.43-.59-.52 0-1.04.2-1.43.59L10.3 9.45l-7.72 7.72c-.78.78-.78 2.05 0 2.83L4 21.41c.39.39.9.59 1.41.59.51 0 1.02-.2 1.41-.59l7.78-7.78 2.81-2.81c.8-.78.8-2.07 0-2.86zM5.41 20L4 18.59l7.72-7.72 1.47 1.35L5.41 20z\"/>\n",
              "  </svg>\n",
              "      </button>\n",
              "      \n",
              "  <style>\n",
              "    .colab-df-container {\n",
              "      display:flex;\n",
              "      flex-wrap:wrap;\n",
              "      gap: 12px;\n",
              "    }\n",
              "\n",
              "    .colab-df-convert {\n",
              "      background-color: #E8F0FE;\n",
              "      border: none;\n",
              "      border-radius: 50%;\n",
              "      cursor: pointer;\n",
              "      display: none;\n",
              "      fill: #1967D2;\n",
              "      height: 32px;\n",
              "      padding: 0 0 0 0;\n",
              "      width: 32px;\n",
              "    }\n",
              "\n",
              "    .colab-df-convert:hover {\n",
              "      background-color: #E2EBFA;\n",
              "      box-shadow: 0px 1px 2px rgba(60, 64, 67, 0.3), 0px 1px 3px 1px rgba(60, 64, 67, 0.15);\n",
              "      fill: #174EA6;\n",
              "    }\n",
              "\n",
              "    [theme=dark] .colab-df-convert {\n",
              "      background-color: #3B4455;\n",
              "      fill: #D2E3FC;\n",
              "    }\n",
              "\n",
              "    [theme=dark] .colab-df-convert:hover {\n",
              "      background-color: #434B5C;\n",
              "      box-shadow: 0px 1px 3px 1px rgba(0, 0, 0, 0.15);\n",
              "      filter: drop-shadow(0px 1px 2px rgba(0, 0, 0, 0.3));\n",
              "      fill: #FFFFFF;\n",
              "    }\n",
              "  </style>\n",
              "\n",
              "      <script>\n",
              "        const buttonEl =\n",
              "          document.querySelector('#df-b5b702e7-0ddb-4db6-971b-a8510b0c91c1 button.colab-df-convert');\n",
              "        buttonEl.style.display =\n",
              "          google.colab.kernel.accessAllowed ? 'block' : 'none';\n",
              "\n",
              "        async function convertToInteractive(key) {\n",
              "          const element = document.querySelector('#df-b5b702e7-0ddb-4db6-971b-a8510b0c91c1');\n",
              "          const dataTable =\n",
              "            await google.colab.kernel.invokeFunction('convertToInteractive',\n",
              "                                                     [key], {});\n",
              "          if (!dataTable) return;\n",
              "\n",
              "          const docLinkHtml = 'Like what you see? Visit the ' +\n",
              "            '<a target=\"_blank\" href=https://colab.research.google.com/notebooks/data_table.ipynb>data table notebook</a>'\n",
              "            + ' to learn more about interactive tables.';\n",
              "          element.innerHTML = '';\n",
              "          dataTable['output_type'] = 'display_data';\n",
              "          await google.colab.output.renderOutput(dataTable, element);\n",
              "          const docLink = document.createElement('div');\n",
              "          docLink.innerHTML = docLinkHtml;\n",
              "          element.appendChild(docLink);\n",
              "        }\n",
              "      </script>\n",
              "    </div>\n",
              "  </div>\n",
              "  "
            ]
          },
          "metadata": {},
          "execution_count": 142
        }
      ]
    },
    {
      "cell_type": "code",
      "source": [
        "data_2.head()"
      ],
      "metadata": {
        "colab": {
          "base_uri": "https://localhost:8080/",
          "height": 456
        },
        "id": "E2ozsf1TISpL",
        "outputId": "54ceacbb-8551-4b9f-cc34-399f74ab5257"
      },
      "execution_count": 143,
      "outputs": [
        {
          "output_type": "execute_result",
          "data": {
            "text/plain": [
              "  emails_deactivated manual_request tracking_only invoicing surveyor  \\\n",
              "0                  0              1             0         0        0   \n",
              "1                  0              1             0         0        0   \n",
              "2                  0              1             0         0        0   \n",
              "3                  0              1             0         0        0   \n",
              "4                  0              1             0         0        0   \n",
              "\n",
              "  auto_time_out_expires_soon decline_after_accept assisted_transaction  \\\n",
              "0                          0                    0                    0   \n",
              "1                          0                    0                    0   \n",
              "2                          0                    0                    0   \n",
              "3                          0                    0                    0   \n",
              "4                          0                    0                    0   \n",
              "\n",
              "  insurance_only critical  ...  per_diem free_days total_loss_insurance  \\\n",
              "0              0        0  ...  0.027778  0.006557                    0   \n",
              "1              0        0  ...  0.023810  0.013115                    0   \n",
              "2              0        0  ...  0.023810  0.013115                    0   \n",
              "3              0        0  ...  0.023810  0.013115                    0   \n",
              "4              0        0  ...  0.023810  0.013115                    0   \n",
              "\n",
              "  user_has_visited supplier_has_visited equipment_count       equipment_type  \\\n",
              "0                0                    0        0.000945  FORTY_DRY_CONTAINER   \n",
              "1                0                    0        0.000050  FORTY_DRY_CONTAINER   \n",
              "2                0                    0        0.000050  FORTY_DRY_CONTAINER   \n",
              "3                0                    0        0.000050  FORTY_DRY_CONTAINER   \n",
              "4                0                    0        0.000249  FORTY_DRY_CONTAINER   \n",
              "\n",
              "                  event impersonated  target_status  \n",
              "0  View Request Details            0            0.0  \n",
              "1  View Request Details            1            0.0  \n",
              "2        Reject Request            1            0.0  \n",
              "3  View Request Details            1            0.0  \n",
              "4  View Request Details            1            0.0  \n",
              "\n",
              "[5 rows x 31 columns]"
            ],
            "text/html": [
              "\n",
              "  <div id=\"df-76b8b105-dbfc-428a-a0cd-9763d4e5c5aa\">\n",
              "    <div class=\"colab-df-container\">\n",
              "      <div>\n",
              "<style scoped>\n",
              "    .dataframe tbody tr th:only-of-type {\n",
              "        vertical-align: middle;\n",
              "    }\n",
              "\n",
              "    .dataframe tbody tr th {\n",
              "        vertical-align: top;\n",
              "    }\n",
              "\n",
              "    .dataframe thead th {\n",
              "        text-align: right;\n",
              "    }\n",
              "</style>\n",
              "<table border=\"1\" class=\"dataframe\">\n",
              "  <thead>\n",
              "    <tr style=\"text-align: right;\">\n",
              "      <th></th>\n",
              "      <th>emails_deactivated</th>\n",
              "      <th>manual_request</th>\n",
              "      <th>tracking_only</th>\n",
              "      <th>invoicing</th>\n",
              "      <th>surveyor</th>\n",
              "      <th>auto_time_out_expires_soon</th>\n",
              "      <th>decline_after_accept</th>\n",
              "      <th>assisted_transaction</th>\n",
              "      <th>insurance_only</th>\n",
              "      <th>critical</th>\n",
              "      <th>...</th>\n",
              "      <th>per_diem</th>\n",
              "      <th>free_days</th>\n",
              "      <th>total_loss_insurance</th>\n",
              "      <th>user_has_visited</th>\n",
              "      <th>supplier_has_visited</th>\n",
              "      <th>equipment_count</th>\n",
              "      <th>equipment_type</th>\n",
              "      <th>event</th>\n",
              "      <th>impersonated</th>\n",
              "      <th>target_status</th>\n",
              "    </tr>\n",
              "  </thead>\n",
              "  <tbody>\n",
              "    <tr>\n",
              "      <th>0</th>\n",
              "      <td>0</td>\n",
              "      <td>1</td>\n",
              "      <td>0</td>\n",
              "      <td>0</td>\n",
              "      <td>0</td>\n",
              "      <td>0</td>\n",
              "      <td>0</td>\n",
              "      <td>0</td>\n",
              "      <td>0</td>\n",
              "      <td>0</td>\n",
              "      <td>...</td>\n",
              "      <td>0.027778</td>\n",
              "      <td>0.006557</td>\n",
              "      <td>0</td>\n",
              "      <td>0</td>\n",
              "      <td>0</td>\n",
              "      <td>0.000945</td>\n",
              "      <td>FORTY_DRY_CONTAINER</td>\n",
              "      <td>View Request Details</td>\n",
              "      <td>0</td>\n",
              "      <td>0.0</td>\n",
              "    </tr>\n",
              "    <tr>\n",
              "      <th>1</th>\n",
              "      <td>0</td>\n",
              "      <td>1</td>\n",
              "      <td>0</td>\n",
              "      <td>0</td>\n",
              "      <td>0</td>\n",
              "      <td>0</td>\n",
              "      <td>0</td>\n",
              "      <td>0</td>\n",
              "      <td>0</td>\n",
              "      <td>0</td>\n",
              "      <td>...</td>\n",
              "      <td>0.023810</td>\n",
              "      <td>0.013115</td>\n",
              "      <td>0</td>\n",
              "      <td>0</td>\n",
              "      <td>0</td>\n",
              "      <td>0.000050</td>\n",
              "      <td>FORTY_DRY_CONTAINER</td>\n",
              "      <td>View Request Details</td>\n",
              "      <td>1</td>\n",
              "      <td>0.0</td>\n",
              "    </tr>\n",
              "    <tr>\n",
              "      <th>2</th>\n",
              "      <td>0</td>\n",
              "      <td>1</td>\n",
              "      <td>0</td>\n",
              "      <td>0</td>\n",
              "      <td>0</td>\n",
              "      <td>0</td>\n",
              "      <td>0</td>\n",
              "      <td>0</td>\n",
              "      <td>0</td>\n",
              "      <td>0</td>\n",
              "      <td>...</td>\n",
              "      <td>0.023810</td>\n",
              "      <td>0.013115</td>\n",
              "      <td>0</td>\n",
              "      <td>0</td>\n",
              "      <td>0</td>\n",
              "      <td>0.000050</td>\n",
              "      <td>FORTY_DRY_CONTAINER</td>\n",
              "      <td>Reject Request</td>\n",
              "      <td>1</td>\n",
              "      <td>0.0</td>\n",
              "    </tr>\n",
              "    <tr>\n",
              "      <th>3</th>\n",
              "      <td>0</td>\n",
              "      <td>1</td>\n",
              "      <td>0</td>\n",
              "      <td>0</td>\n",
              "      <td>0</td>\n",
              "      <td>0</td>\n",
              "      <td>0</td>\n",
              "      <td>0</td>\n",
              "      <td>0</td>\n",
              "      <td>0</td>\n",
              "      <td>...</td>\n",
              "      <td>0.023810</td>\n",
              "      <td>0.013115</td>\n",
              "      <td>0</td>\n",
              "      <td>0</td>\n",
              "      <td>0</td>\n",
              "      <td>0.000050</td>\n",
              "      <td>FORTY_DRY_CONTAINER</td>\n",
              "      <td>View Request Details</td>\n",
              "      <td>1</td>\n",
              "      <td>0.0</td>\n",
              "    </tr>\n",
              "    <tr>\n",
              "      <th>4</th>\n",
              "      <td>0</td>\n",
              "      <td>1</td>\n",
              "      <td>0</td>\n",
              "      <td>0</td>\n",
              "      <td>0</td>\n",
              "      <td>0</td>\n",
              "      <td>0</td>\n",
              "      <td>0</td>\n",
              "      <td>0</td>\n",
              "      <td>0</td>\n",
              "      <td>...</td>\n",
              "      <td>0.023810</td>\n",
              "      <td>0.013115</td>\n",
              "      <td>0</td>\n",
              "      <td>0</td>\n",
              "      <td>0</td>\n",
              "      <td>0.000249</td>\n",
              "      <td>FORTY_DRY_CONTAINER</td>\n",
              "      <td>View Request Details</td>\n",
              "      <td>1</td>\n",
              "      <td>0.0</td>\n",
              "    </tr>\n",
              "  </tbody>\n",
              "</table>\n",
              "<p>5 rows × 31 columns</p>\n",
              "</div>\n",
              "      <button class=\"colab-df-convert\" onclick=\"convertToInteractive('df-76b8b105-dbfc-428a-a0cd-9763d4e5c5aa')\"\n",
              "              title=\"Convert this dataframe to an interactive table.\"\n",
              "              style=\"display:none;\">\n",
              "        \n",
              "  <svg xmlns=\"http://www.w3.org/2000/svg\" height=\"24px\"viewBox=\"0 0 24 24\"\n",
              "       width=\"24px\">\n",
              "    <path d=\"M0 0h24v24H0V0z\" fill=\"none\"/>\n",
              "    <path d=\"M18.56 5.44l.94 2.06.94-2.06 2.06-.94-2.06-.94-.94-2.06-.94 2.06-2.06.94zm-11 1L8.5 8.5l.94-2.06 2.06-.94-2.06-.94L8.5 2.5l-.94 2.06-2.06.94zm10 10l.94 2.06.94-2.06 2.06-.94-2.06-.94-.94-2.06-.94 2.06-2.06.94z\"/><path d=\"M17.41 7.96l-1.37-1.37c-.4-.4-.92-.59-1.43-.59-.52 0-1.04.2-1.43.59L10.3 9.45l-7.72 7.72c-.78.78-.78 2.05 0 2.83L4 21.41c.39.39.9.59 1.41.59.51 0 1.02-.2 1.41-.59l7.78-7.78 2.81-2.81c.8-.78.8-2.07 0-2.86zM5.41 20L4 18.59l7.72-7.72 1.47 1.35L5.41 20z\"/>\n",
              "  </svg>\n",
              "      </button>\n",
              "      \n",
              "  <style>\n",
              "    .colab-df-container {\n",
              "      display:flex;\n",
              "      flex-wrap:wrap;\n",
              "      gap: 12px;\n",
              "    }\n",
              "\n",
              "    .colab-df-convert {\n",
              "      background-color: #E8F0FE;\n",
              "      border: none;\n",
              "      border-radius: 50%;\n",
              "      cursor: pointer;\n",
              "      display: none;\n",
              "      fill: #1967D2;\n",
              "      height: 32px;\n",
              "      padding: 0 0 0 0;\n",
              "      width: 32px;\n",
              "    }\n",
              "\n",
              "    .colab-df-convert:hover {\n",
              "      background-color: #E2EBFA;\n",
              "      box-shadow: 0px 1px 2px rgba(60, 64, 67, 0.3), 0px 1px 3px 1px rgba(60, 64, 67, 0.15);\n",
              "      fill: #174EA6;\n",
              "    }\n",
              "\n",
              "    [theme=dark] .colab-df-convert {\n",
              "      background-color: #3B4455;\n",
              "      fill: #D2E3FC;\n",
              "    }\n",
              "\n",
              "    [theme=dark] .colab-df-convert:hover {\n",
              "      background-color: #434B5C;\n",
              "      box-shadow: 0px 1px 3px 1px rgba(0, 0, 0, 0.15);\n",
              "      filter: drop-shadow(0px 1px 2px rgba(0, 0, 0, 0.3));\n",
              "      fill: #FFFFFF;\n",
              "    }\n",
              "  </style>\n",
              "\n",
              "      <script>\n",
              "        const buttonEl =\n",
              "          document.querySelector('#df-76b8b105-dbfc-428a-a0cd-9763d4e5c5aa button.colab-df-convert');\n",
              "        buttonEl.style.display =\n",
              "          google.colab.kernel.accessAllowed ? 'block' : 'none';\n",
              "\n",
              "        async function convertToInteractive(key) {\n",
              "          const element = document.querySelector('#df-76b8b105-dbfc-428a-a0cd-9763d4e5c5aa');\n",
              "          const dataTable =\n",
              "            await google.colab.kernel.invokeFunction('convertToInteractive',\n",
              "                                                     [key], {});\n",
              "          if (!dataTable) return;\n",
              "\n",
              "          const docLinkHtml = 'Like what you see? Visit the ' +\n",
              "            '<a target=\"_blank\" href=https://colab.research.google.com/notebooks/data_table.ipynb>data table notebook</a>'\n",
              "            + ' to learn more about interactive tables.';\n",
              "          element.innerHTML = '';\n",
              "          dataTable['output_type'] = 'display_data';\n",
              "          await google.colab.output.renderOutput(dataTable, element);\n",
              "          const docLink = document.createElement('div');\n",
              "          docLink.innerHTML = docLinkHtml;\n",
              "          element.appendChild(docLink);\n",
              "        }\n",
              "      </script>\n",
              "    </div>\n",
              "  </div>\n",
              "  "
            ]
          },
          "metadata": {},
          "execution_count": 143
        }
      ]
    },
    {
      "cell_type": "code",
      "source": [
        "data_2.columns"
      ],
      "metadata": {
        "colab": {
          "base_uri": "https://localhost:8080/"
        },
        "id": "12wZybfmIu7F",
        "outputId": "09cb0d25-1935-4283-d7d0-ddef9e3174e0"
      },
      "execution_count": 144,
      "outputs": [
        {
          "output_type": "execute_result",
          "data": {
            "text/plain": [
              "Index(['emails_deactivated', 'manual_request', 'tracking_only', 'invoicing',\n",
              "       'surveyor', 'auto_time_out_expires_soon', 'decline_after_accept',\n",
              "       'assisted_transaction', 'insurance_only', 'critical', 'leasing',\n",
              "       'prepayment_of_charge', 'no_payment_guarantee', 'grey_zone_agreed',\n",
              "       'has_damage_claim', 'direction', 'version', 'sentiment',\n",
              "       'request_reject_reason_id', 'pickup_charge', 'damage_protection_plan',\n",
              "       'per_diem', 'free_days', 'total_loss_insurance', 'user_has_visited',\n",
              "       'supplier_has_visited', 'equipment_count', 'equipment_type', 'event',\n",
              "       'impersonated', 'target_status'],\n",
              "      dtype='object')"
            ]
          },
          "metadata": {},
          "execution_count": 144
        }
      ]
    },
    {
      "cell_type": "code",
      "source": [
        "categorical_Attributes = ['emails_deactivated', 'manual_request', 'tracking_only', 'invoicing', 'surveyor', 'auto_time_out_expires_soon', 'decline_after_accept',\n",
        "       'assisted_transaction', 'insurance_only', 'critical', 'leasing', 'prepayment_of_charge', 'no_payment_guarantee', 'grey_zone_agreed',\n",
        "       'has_damage_claim', 'direction', 'version', 'sentiment', 'request_reject_reason_id', 'total_loss_insurance', 'user_has_visited',\n",
        "       'supplier_has_visited', 'equipment_type', 'event','impersonated']"
      ],
      "metadata": {
        "id": "WVJ_cwYpNjpL"
      },
      "execution_count": 145,
      "outputs": []
    },
    {
      "cell_type": "code",
      "source": [
        "data_3 = pd.get_dummies(columns=categorical_Attributes, data=data_2, \n",
        "                      prefix=categorical_Attributes, prefix_sep=\"_\", drop_first=True)"
      ],
      "metadata": {
        "id": "hEoBihMDNIKc"
      },
      "execution_count": 239,
      "outputs": []
    },
    {
      "cell_type": "code",
      "source": [
        "X, y = data_3.loc[:,data_3.columns!='target_status'].values, data_3.loc[:,'target_status'].values\n",
        "\n",
        "X_train, X_test, y_train, y_test = train_test_split(X, y, test_size=0.3, random_state=123)"
      ],
      "metadata": {
        "id": "g-Z9lxY5N4Mg"
      },
      "execution_count": 233,
      "outputs": []
    },
    {
      "cell_type": "code",
      "source": [
        "X_train,X_test,y_train,y_test = train_test_split(data_3.drop(['target_status'],axis=1), data_3['target_status'],test_size = 0.30,random_state=1)\n",
        "\n",
        "print(\"X TRAIN DATA SHAPE IS : \", X_train.shape)\n",
        "print(\"X TEST DATA SHAPE IS :\",X_test.shape)\n",
        "print(\"y TRAIN DATA SHAPE IS : \", y_train.shape)\n",
        "print(\"y TEST DATA SHAPE IS :\",y_test.shape)"
      ],
      "metadata": {
        "colab": {
          "base_uri": "https://localhost:8080/"
        },
        "id": "HGSmuQIS7Upx",
        "outputId": "06f3565c-c1b6-4a87-d02c-67bf051c9fdc"
      },
      "execution_count": 242,
      "outputs": [
        {
          "output_type": "stream",
          "name": "stdout",
          "text": [
            "X TRAIN DATA SHAPE IS :  (73855, 104)\n",
            "X TEST DATA SHAPE IS : (31653, 104)\n",
            "y TRAIN DATA SHAPE IS :  (73855,)\n",
            "y TEST DATA SHAPE IS : (31653,)\n"
          ]
        }
      ]
    },
    {
      "cell_type": "code",
      "source": [
        "print(pd.value_counts(y_train))\n",
        "print(pd.value_counts(y_test))"
      ],
      "metadata": {
        "colab": {
          "base_uri": "https://localhost:8080/"
        },
        "id": "z74h4KbmOgbE",
        "outputId": "5110faec-bf59-4c58-da1d-6bb10feaee48"
      },
      "execution_count": 241,
      "outputs": [
        {
          "output_type": "stream",
          "name": "stdout",
          "text": [
            "0.0    63205\n",
            "1.0    26476\n",
            "Name: target_status, dtype: int64\n",
            "0.0    11109\n",
            "1.0     4718\n",
            "Name: target_status, dtype: int64\n"
          ]
        }
      ]
    },
    {
      "cell_type": "code",
      "source": [
        "clf = tree.DecisionTreeClassifier()\n",
        "clf = clf.fit(X_train, y_train)"
      ],
      "metadata": {
        "id": "LunUMPTdP29I"
      },
      "execution_count": 243,
      "outputs": []
    },
    {
      "cell_type": "code",
      "source": [
        "clf.feature_importances_"
      ],
      "metadata": {
        "colab": {
          "base_uri": "https://localhost:8080/"
        },
        "id": "ouLXi9L4P65H",
        "outputId": "a3563031-0932-4da4-a2fd-72d0bd280fe5"
      },
      "execution_count": 244,
      "outputs": [
        {
          "output_type": "execute_result",
          "data": {
            "text/plain": [
              "array([3.34612539e-02, 1.09491686e-02, 2.56499544e-02, 2.70326880e-02,\n",
              "       3.08270453e-02, 7.36128842e-03, 1.18763765e-02, 3.74235726e-02,\n",
              "       3.42043518e-01, 8.38926240e-03, 0.00000000e+00, 2.83908952e-02,\n",
              "       0.00000000e+00, 0.00000000e+00, 0.00000000e+00, 0.00000000e+00,\n",
              "       9.90864836e-03, 4.05378301e-03, 4.26458449e-03, 5.68218686e-03,\n",
              "       1.00280612e-02, 1.01666417e-02, 4.50070755e-03, 1.04647805e-02,\n",
              "       4.37556818e-03, 2.58425492e-03, 1.04053608e-02, 3.60872201e-03,\n",
              "       2.24051033e-02, 6.51670675e-05, 2.08233955e-03, 0.00000000e+00,\n",
              "       0.00000000e+00, 0.00000000e+00, 0.00000000e+00, 6.53610516e-03,\n",
              "       6.61276249e-05, 0.00000000e+00, 0.00000000e+00, 0.00000000e+00,\n",
              "       6.49267636e-05, 0.00000000e+00, 0.00000000e+00, 0.00000000e+00,\n",
              "       0.00000000e+00, 0.00000000e+00, 0.00000000e+00, 0.00000000e+00,\n",
              "       1.93951324e-04, 0.00000000e+00, 3.48030417e-03, 1.51155869e-03,\n",
              "       2.09403989e-02, 1.02178921e-03, 6.01915360e-03, 0.00000000e+00,\n",
              "       0.00000000e+00, 0.00000000e+00, 3.98063817e-03, 7.63518785e-04,\n",
              "       6.84695629e-03, 3.08503676e-03, 9.51791026e-05, 4.38442736e-04,\n",
              "       0.00000000e+00, 1.69598435e-03, 1.51047756e-03, 3.48171712e-03,\n",
              "       0.00000000e+00, 4.29246474e-02, 1.39719079e-03, 7.01741980e-02,\n",
              "       1.42095030e-01, 7.24092407e-03, 0.00000000e+00, 0.00000000e+00,\n",
              "       0.00000000e+00, 0.00000000e+00, 0.00000000e+00, 0.00000000e+00,\n",
              "       0.00000000e+00, 0.00000000e+00, 0.00000000e+00, 1.93615332e-03,\n",
              "       0.00000000e+00, 0.00000000e+00, 0.00000000e+00, 0.00000000e+00,\n",
              "       0.00000000e+00, 0.00000000e+00, 4.43352729e-03, 0.00000000e+00,\n",
              "       0.00000000e+00, 0.00000000e+00, 0.00000000e+00, 0.00000000e+00,\n",
              "       0.00000000e+00, 0.00000000e+00, 0.00000000e+00, 0.00000000e+00,\n",
              "       6.51308053e-05, 0.00000000e+00, 0.00000000e+00, 0.00000000e+00])"
            ]
          },
          "metadata": {},
          "execution_count": 244
        }
      ]
    },
    {
      "cell_type": "code",
      "source": [
        "features = data_3.columns\n",
        "importances = clf.feature_importances_\n",
        "indices = np.argsort(importances)[::-1]\n",
        "plot_1 = pd.DataFrame([data_3.columns[indices],np.sort(importances)[::-1]])\n",
        "pd.DataFrame([data_3.columns[indices],np.sort(importances)[::-1]])"
      ],
      "metadata": {
        "colab": {
          "base_uri": "https://localhost:8080/",
          "height": 240
        },
        "id": "Tn2amRZcP90t",
        "outputId": "9780b424-db5d-4f71-93dd-05fb10047d7c"
      },
      "execution_count": 245,
      "outputs": [
        {
          "output_type": "execute_result",
          "data": {
            "text/plain": [
              "               0                   1                       2    \\\n",
              "0  tracking_only_1  user_has_visited_1  total_loss_insurance_1   \n",
              "1         0.342044            0.142095                0.070174   \n",
              "\n",
              "                           3                 4              5    \\\n",
              "0  request_reject_reason_id_43  manual_request_1  pickup_charge   \n",
              "1                     0.042925          0.037424       0.033461   \n",
              "\n",
              "               6                             7          8         9    ...  \\\n",
              "0  equipment_count  auto_time_out_expires_soon_1  free_days  per_diem  ...   \n",
              "1         0.030827                      0.028391   0.027033   0.02565  ...   \n",
              "\n",
              "                           94                           95   \\\n",
              "0  request_reject_reason_id_12  request_reject_reason_id_10   \n",
              "1                          0.0                          0.0   \n",
              "\n",
              "                          96                  97   \\\n",
              "0  request_reject_reason_id_9  sentiment_positive   \n",
              "1                         0.0                 0.0   \n",
              "\n",
              "                                            98          99          100  \\\n",
              "0  equipment_type_FORTY_FIVE_HIGH_CUBE_FLATRACK  version_19  version_18   \n",
              "1                                           0.0         0.0         0.0   \n",
              "\n",
              "          101                                              102  \\\n",
              "0  version_17  equipment_type_FORTY_FIVE_HIGH_CUBE_PALLET_WIDE   \n",
              "1         0.0                                              0.0   \n",
              "\n",
              "                          103  \n",
              "0  event_View Request Details  \n",
              "1                         0.0  \n",
              "\n",
              "[2 rows x 104 columns]"
            ],
            "text/html": [
              "\n",
              "  <div id=\"df-020887f9-0907-41d7-af98-0699405f886c\">\n",
              "    <div class=\"colab-df-container\">\n",
              "      <div>\n",
              "<style scoped>\n",
              "    .dataframe tbody tr th:only-of-type {\n",
              "        vertical-align: middle;\n",
              "    }\n",
              "\n",
              "    .dataframe tbody tr th {\n",
              "        vertical-align: top;\n",
              "    }\n",
              "\n",
              "    .dataframe thead th {\n",
              "        text-align: right;\n",
              "    }\n",
              "</style>\n",
              "<table border=\"1\" class=\"dataframe\">\n",
              "  <thead>\n",
              "    <tr style=\"text-align: right;\">\n",
              "      <th></th>\n",
              "      <th>0</th>\n",
              "      <th>1</th>\n",
              "      <th>2</th>\n",
              "      <th>3</th>\n",
              "      <th>4</th>\n",
              "      <th>5</th>\n",
              "      <th>6</th>\n",
              "      <th>7</th>\n",
              "      <th>8</th>\n",
              "      <th>9</th>\n",
              "      <th>...</th>\n",
              "      <th>94</th>\n",
              "      <th>95</th>\n",
              "      <th>96</th>\n",
              "      <th>97</th>\n",
              "      <th>98</th>\n",
              "      <th>99</th>\n",
              "      <th>100</th>\n",
              "      <th>101</th>\n",
              "      <th>102</th>\n",
              "      <th>103</th>\n",
              "    </tr>\n",
              "  </thead>\n",
              "  <tbody>\n",
              "    <tr>\n",
              "      <th>0</th>\n",
              "      <td>tracking_only_1</td>\n",
              "      <td>user_has_visited_1</td>\n",
              "      <td>total_loss_insurance_1</td>\n",
              "      <td>request_reject_reason_id_43</td>\n",
              "      <td>manual_request_1</td>\n",
              "      <td>pickup_charge</td>\n",
              "      <td>equipment_count</td>\n",
              "      <td>auto_time_out_expires_soon_1</td>\n",
              "      <td>free_days</td>\n",
              "      <td>per_diem</td>\n",
              "      <td>...</td>\n",
              "      <td>request_reject_reason_id_12</td>\n",
              "      <td>request_reject_reason_id_10</td>\n",
              "      <td>request_reject_reason_id_9</td>\n",
              "      <td>sentiment_positive</td>\n",
              "      <td>equipment_type_FORTY_FIVE_HIGH_CUBE_FLATRACK</td>\n",
              "      <td>version_19</td>\n",
              "      <td>version_18</td>\n",
              "      <td>version_17</td>\n",
              "      <td>equipment_type_FORTY_FIVE_HIGH_CUBE_PALLET_WIDE</td>\n",
              "      <td>event_View Request Details</td>\n",
              "    </tr>\n",
              "    <tr>\n",
              "      <th>1</th>\n",
              "      <td>0.342044</td>\n",
              "      <td>0.142095</td>\n",
              "      <td>0.070174</td>\n",
              "      <td>0.042925</td>\n",
              "      <td>0.037424</td>\n",
              "      <td>0.033461</td>\n",
              "      <td>0.030827</td>\n",
              "      <td>0.028391</td>\n",
              "      <td>0.027033</td>\n",
              "      <td>0.02565</td>\n",
              "      <td>...</td>\n",
              "      <td>0.0</td>\n",
              "      <td>0.0</td>\n",
              "      <td>0.0</td>\n",
              "      <td>0.0</td>\n",
              "      <td>0.0</td>\n",
              "      <td>0.0</td>\n",
              "      <td>0.0</td>\n",
              "      <td>0.0</td>\n",
              "      <td>0.0</td>\n",
              "      <td>0.0</td>\n",
              "    </tr>\n",
              "  </tbody>\n",
              "</table>\n",
              "<p>2 rows × 104 columns</p>\n",
              "</div>\n",
              "      <button class=\"colab-df-convert\" onclick=\"convertToInteractive('df-020887f9-0907-41d7-af98-0699405f886c')\"\n",
              "              title=\"Convert this dataframe to an interactive table.\"\n",
              "              style=\"display:none;\">\n",
              "        \n",
              "  <svg xmlns=\"http://www.w3.org/2000/svg\" height=\"24px\"viewBox=\"0 0 24 24\"\n",
              "       width=\"24px\">\n",
              "    <path d=\"M0 0h24v24H0V0z\" fill=\"none\"/>\n",
              "    <path d=\"M18.56 5.44l.94 2.06.94-2.06 2.06-.94-2.06-.94-.94-2.06-.94 2.06-2.06.94zm-11 1L8.5 8.5l.94-2.06 2.06-.94-2.06-.94L8.5 2.5l-.94 2.06-2.06.94zm10 10l.94 2.06.94-2.06 2.06-.94-2.06-.94-.94-2.06-.94 2.06-2.06.94z\"/><path d=\"M17.41 7.96l-1.37-1.37c-.4-.4-.92-.59-1.43-.59-.52 0-1.04.2-1.43.59L10.3 9.45l-7.72 7.72c-.78.78-.78 2.05 0 2.83L4 21.41c.39.39.9.59 1.41.59.51 0 1.02-.2 1.41-.59l7.78-7.78 2.81-2.81c.8-.78.8-2.07 0-2.86zM5.41 20L4 18.59l7.72-7.72 1.47 1.35L5.41 20z\"/>\n",
              "  </svg>\n",
              "      </button>\n",
              "      \n",
              "  <style>\n",
              "    .colab-df-container {\n",
              "      display:flex;\n",
              "      flex-wrap:wrap;\n",
              "      gap: 12px;\n",
              "    }\n",
              "\n",
              "    .colab-df-convert {\n",
              "      background-color: #E8F0FE;\n",
              "      border: none;\n",
              "      border-radius: 50%;\n",
              "      cursor: pointer;\n",
              "      display: none;\n",
              "      fill: #1967D2;\n",
              "      height: 32px;\n",
              "      padding: 0 0 0 0;\n",
              "      width: 32px;\n",
              "    }\n",
              "\n",
              "    .colab-df-convert:hover {\n",
              "      background-color: #E2EBFA;\n",
              "      box-shadow: 0px 1px 2px rgba(60, 64, 67, 0.3), 0px 1px 3px 1px rgba(60, 64, 67, 0.15);\n",
              "      fill: #174EA6;\n",
              "    }\n",
              "\n",
              "    [theme=dark] .colab-df-convert {\n",
              "      background-color: #3B4455;\n",
              "      fill: #D2E3FC;\n",
              "    }\n",
              "\n",
              "    [theme=dark] .colab-df-convert:hover {\n",
              "      background-color: #434B5C;\n",
              "      box-shadow: 0px 1px 3px 1px rgba(0, 0, 0, 0.15);\n",
              "      filter: drop-shadow(0px 1px 2px rgba(0, 0, 0, 0.3));\n",
              "      fill: #FFFFFF;\n",
              "    }\n",
              "  </style>\n",
              "\n",
              "      <script>\n",
              "        const buttonEl =\n",
              "          document.querySelector('#df-020887f9-0907-41d7-af98-0699405f886c button.colab-df-convert');\n",
              "        buttonEl.style.display =\n",
              "          google.colab.kernel.accessAllowed ? 'block' : 'none';\n",
              "\n",
              "        async function convertToInteractive(key) {\n",
              "          const element = document.querySelector('#df-020887f9-0907-41d7-af98-0699405f886c');\n",
              "          const dataTable =\n",
              "            await google.colab.kernel.invokeFunction('convertToInteractive',\n",
              "                                                     [key], {});\n",
              "          if (!dataTable) return;\n",
              "\n",
              "          const docLinkHtml = 'Like what you see? Visit the ' +\n",
              "            '<a target=\"_blank\" href=https://colab.research.google.com/notebooks/data_table.ipynb>data table notebook</a>'\n",
              "            + ' to learn more about interactive tables.';\n",
              "          element.innerHTML = '';\n",
              "          dataTable['output_type'] = 'display_data';\n",
              "          await google.colab.output.renderOutput(dataTable, element);\n",
              "          const docLink = document.createElement('div');\n",
              "          docLink.innerHTML = docLinkHtml;\n",
              "          element.appendChild(docLink);\n",
              "        }\n",
              "      </script>\n",
              "    </div>\n",
              "  </div>\n",
              "  "
            ]
          },
          "metadata": {},
          "execution_count": 245
        }
      ]
    },
    {
      "cell_type": "code",
      "source": [
        "plot_1.to_csv('plot_w_tracking.csv')"
      ],
      "metadata": {
        "id": "UkjhwcM-g_BG"
      },
      "execution_count": 225,
      "outputs": []
    },
    {
      "cell_type": "code",
      "source": [
        "train_pred = clf.predict(X_train)\n",
        "test_pred = clf.predict(X_test)"
      ],
      "metadata": {
        "id": "jyrqZq4G6PSZ"
      },
      "execution_count": 246,
      "outputs": []
    },
    {
      "cell_type": "code",
      "source": [
        "print(train_pred[:5])\n",
        "print(test_pred[:5])"
      ],
      "metadata": {
        "colab": {
          "base_uri": "https://localhost:8080/"
        },
        "id": "l-PNzqnd6RZE",
        "outputId": "4436c598-e024-4d83-e7ac-5c3356a20462"
      },
      "execution_count": 247,
      "outputs": [
        {
          "output_type": "stream",
          "name": "stdout",
          "text": [
            "[0. 1. 0. 0. 0.]\n",
            "[0. 0. 0. 1. 1.]\n"
          ]
        }
      ]
    },
    {
      "cell_type": "code",
      "source": [
        "plt.rcParams[\"figure.figsize\"] = (20,20)\n",
        "plt.title('Feature Importances')\n",
        "plt.barh(range(len(indices)), importances[indices], color='black')\n",
        "plt.yticks(range(len(indices)), [features[i] for i in indices])\n",
        "plt.xlabel('Relative Importance')\n",
        "plt.show()"
      ],
      "metadata": {
        "colab": {
          "base_uri": "https://localhost:8080/",
          "height": 1000
        },
        "id": "rMP_c7agQK87",
        "outputId": "8a57e994-0de3-44a7-d138-262be9e580c4"
      },
      "execution_count": 248,
      "outputs": [
        {
          "output_type": "display_data",
          "data": {
            "text/plain": [
              "<Figure size 1440x1440 with 1 Axes>"
            ],
            "image/png": "[encoded data removed]"
          },
          "metadata": {
            "needs_background": "light"
          }
        }
      ]
    },
    {
      "cell_type": "code",
      "source": [
        "confusion_matrix_test = confusion_matrix(y_test, test_pred)\n",
        "confusion_matrix_train = confusion_matrix(y_train, train_pred)\n",
        "\n",
        "print(confusion_matrix_train)\n",
        "print(confusion_matrix_test)"
      ],
      "metadata": {
        "colab": {
          "base_uri": "https://localhost:8080/"
        },
        "id": "lQ5TlQYM6Y51",
        "outputId": "72f73a0b-a8db-43b3-cc65-af81f3d66ada"
      },
      "execution_count": 249,
      "outputs": [
        {
          "output_type": "stream",
          "name": "stdout",
          "text": [
            "[[52105     0]\n",
            " [    0 21750]]\n",
            "[[22202     7]\n",
            " [    2  9442]]\n"
          ]
        }
      ]
    },
    {
      "cell_type": "code",
      "source": [
        "Accuracy_Train=(confusion_matrix_train[0,0]+confusion_matrix_train[1,1])/(confusion_matrix_train[0,0]+confusion_matrix_train[0,1]+confusion_matrix_train[1,0]+confusion_matrix_train[1,1])\n",
        "TNR_Train= confusion_matrix_train[0,0]/(confusion_matrix_train[0,0]+confusion_matrix_train[0,1])\n",
        "TPR_Train= confusion_matrix_train[1,1]/(confusion_matrix_train[1,0]+confusion_matrix_train[1,1])\n",
        "\n",
        "print(\"Train TNR: \",TNR_Train)\n",
        "print(\"Train TPR: \",TPR_Train)\n",
        "print(\"Train Accuracy: \",Accuracy_Train)"
      ],
      "metadata": {
        "colab": {
          "base_uri": "https://localhost:8080/"
        },
        "id": "ofKPKPyD6e4h",
        "outputId": "ce111e76-20e6-48d8-8f07-678b5a5e49ed"
      },
      "execution_count": 250,
      "outputs": [
        {
          "output_type": "stream",
          "name": "stdout",
          "text": [
            "Train TNR:  1.0\n",
            "Train TPR:  1.0\n",
            "Train Accuracy:  1.0\n"
          ]
        }
      ]
    },
    {
      "cell_type": "code",
      "source": [
        "Accuracy_Test=(confusion_matrix_test[0,0]+confusion_matrix_test[1,1])/(confusion_matrix_test[0,0]+confusion_matrix_test[0,1]+confusion_matrix_test[1,0]+confusion_matrix_test[1,1])\n",
        "TNR_Test= confusion_matrix_test[0,0]/(confusion_matrix_test[0,0] +confusion_matrix_test[0,1])\n",
        "TPR_Test= confusion_matrix_test[1,1]/(confusion_matrix_test[1,0] +confusion_matrix_test[1,1])\n",
        "\n",
        "print(\"Test TNR: \",TNR_Test)\n",
        "print(\"Test TPR: \",TPR_Test)\n",
        "print(\"Test Accuracy: \",Accuracy_Test)"
      ],
      "metadata": {
        "colab": {
          "base_uri": "https://localhost:8080/"
        },
        "id": "9siqq6DF8git",
        "outputId": "1c42dfba-4b69-40a6-fe68-fc583c3566a9"
      },
      "execution_count": 251,
      "outputs": [
        {
          "output_type": "stream",
          "name": "stdout",
          "text": [
            "Test TNR:  0.9996848124634158\n",
            "Test TPR:  0.9997882253282507\n",
            "Test Accuracy:  0.9997156667614444\n"
          ]
        }
      ]
    },
    {
      "cell_type": "code",
      "source": [
        "data_4 = data_3.drop('tracking_only_1', axis = 1)"
      ],
      "metadata": {
        "id": "nul8qOOWQOdL"
      },
      "execution_count": 155,
      "outputs": []
    },
    {
      "cell_type": "code",
      "source": [
        "X, y = data_4.loc[:,data_4.columns!='target_status'].values, data_4.loc[:,'target_status'].values\n",
        "\n",
        "X_train, X_test, y_train, y_test = train_test_split(X, y, test_size=0.3, random_state=123)"
      ],
      "metadata": {
        "id": "285AJUQLZyso"
      },
      "execution_count": 158,
      "outputs": []
    },
    {
      "cell_type": "code",
      "source": [
        "print(pd.value_counts(y_train))\n",
        "print(pd.value_counts(y_test))"
      ],
      "metadata": {
        "colab": {
          "base_uri": "https://localhost:8080/"
        },
        "id": "jRS41F2GZ67s",
        "outputId": "7f95518a-d1c4-4b19-f875-d91ab32d7eb0"
      },
      "execution_count": 159,
      "outputs": [
        {
          "output_type": "stream",
          "name": "stdout",
          "text": [
            "0.0    51949\n",
            "1.0    21906\n",
            "dtype: int64\n",
            "0.0    22365\n",
            "1.0     9288\n",
            "dtype: int64\n"
          ]
        }
      ]
    },
    {
      "cell_type": "code",
      "source": [
        "clf = tree.DecisionTreeClassifier()\n",
        "clf = clf.fit(X_train, y_train)"
      ],
      "metadata": {
        "id": "_zirL0l6Z-gc"
      },
      "execution_count": 160,
      "outputs": []
    },
    {
      "cell_type": "code",
      "source": [
        "clf.feature_importances_"
      ],
      "metadata": {
        "colab": {
          "base_uri": "https://localhost:8080/"
        },
        "id": "3eADeYXMaHWA",
        "outputId": "55512d07-97fd-478e-ef66-43d1f420bf6a"
      },
      "execution_count": 161,
      "outputs": [
        {
          "output_type": "execute_result",
          "data": {
            "text/plain": [
              "array([2.49124800e-02, 1.23449691e-02, 4.99886317e-02, 2.81896225e-02,\n",
              "       3.97129106e-02, 1.08855200e-02, 1.31683013e-02, 3.39626660e-01,\n",
              "       8.60896851e-03, 0.00000000e+00, 4.35916557e-02, 0.00000000e+00,\n",
              "       0.00000000e+00, 0.00000000e+00, 0.00000000e+00, 6.14757733e-03,\n",
              "       3.90677903e-03, 4.64416900e-03, 6.69132785e-03, 1.01949169e-02,\n",
              "       8.52629422e-03, 4.28176680e-03, 1.15429839e-02, 4.15376443e-03,\n",
              "       2.80979969e-03, 9.95408165e-03, 3.91014842e-03, 2.14194049e-02,\n",
              "       0.00000000e+00, 2.43165594e-03, 0.00000000e+00, 0.00000000e+00,\n",
              "       0.00000000e+00, 1.60344926e-03, 7.01351991e-03, 4.80675659e-07,\n",
              "       0.00000000e+00, 0.00000000e+00, 0.00000000e+00, 1.29131136e-04,\n",
              "       0.00000000e+00, 3.10973352e-04, 0.00000000e+00, 0.00000000e+00,\n",
              "       0.00000000e+00, 0.00000000e+00, 0.00000000e+00, 3.83510385e-04,\n",
              "       0.00000000e+00, 3.98010765e-03, 1.17010815e-03, 1.77259377e-02,\n",
              "       1.22086469e-03, 4.63907709e-03, 0.00000000e+00, 2.03441366e-03,\n",
              "       0.00000000e+00, 5.95922639e-03, 8.80004559e-04, 9.16942862e-03,\n",
              "       3.07959282e-03, 7.20944967e-04, 6.04697422e-04, 1.61109332e-03,\n",
              "       1.29639868e-04, 1.50747837e-03, 6.54620574e-03, 0.00000000e+00,\n",
              "       2.99689626e-02, 2.54059179e-03, 7.23551407e-02, 1.40634495e-01,\n",
              "       7.57249588e-03, 0.00000000e+00, 0.00000000e+00, 0.00000000e+00,\n",
              "       0.00000000e+00, 0.00000000e+00, 1.80080781e-03, 0.00000000e+00,\n",
              "       0.00000000e+00, 0.00000000e+00, 0.00000000e+00, 0.00000000e+00,\n",
              "       0.00000000e+00, 2.47086272e-04, 0.00000000e+00, 0.00000000e+00,\n",
              "       0.00000000e+00, 1.90181793e-03, 0.00000000e+00, 0.00000000e+00,\n",
              "       0.00000000e+00, 0.00000000e+00, 0.00000000e+00, 9.14326675e-04,\n",
              "       0.00000000e+00, 0.00000000e+00, 0.00000000e+00, 0.00000000e+00,\n",
              "       0.00000000e+00, 0.00000000e+00, 0.00000000e+00])"
            ]
          },
          "metadata": {},
          "execution_count": 161
        }
      ]
    },
    {
      "cell_type": "code",
      "source": [
        "features = data_4.columns\n",
        "importances = clf.feature_importances_\n",
        "indices = np.argsort(importances)[::-1]\n",
        "plot_2 = pd.DataFrame([data_4.columns[indices],np.sort(importances)[::-1]])\n",
        "pd.DataFrame([data_4.columns[indices],np.sort(importances)[::-1]])"
      ],
      "metadata": {
        "colab": {
          "base_uri": "https://localhost:8080/",
          "height": 240
        },
        "id": "kHBdkps5aKks",
        "outputId": "9fdadef5-1360-4aec-96fb-38733a5a4ad4"
      },
      "execution_count": 206,
      "outputs": [
        {
          "output_type": "execute_result",
          "data": {
            "text/plain": [
              "                0                   1                       2         3    \\\n",
              "0  manual_request_1  user_has_visited_1  total_loss_insurance_1  per_diem   \n",
              "1          0.339627            0.140634                0.072355  0.049989   \n",
              "\n",
              "                            4                5                            6    \\\n",
              "0  auto_time_out_expires_soon_1  equipment_count  request_reject_reason_id_43   \n",
              "1                      0.043592         0.039713                     0.029969   \n",
              "\n",
              "         7              8           9    ...                   93   \\\n",
              "0  free_days  pickup_charge  version_13  ...  event_Update Request   \n",
              "1    0.02819       0.024912    0.021419  ...                   0.0   \n",
              "\n",
              "                           94                           95   \\\n",
              "0  request_reject_reason_id_22  request_reject_reason_id_19   \n",
              "1                          0.0                          0.0   \n",
              "\n",
              "                                   96                           97   \\\n",
              "0  equipment_type_TWENTY_DRY_CONTAINER  request_reject_reason_id_16   \n",
              "1                                  0.0                          0.0   \n",
              "\n",
              "                           98                           99   \\\n",
              "0  request_reject_reason_id_15  request_reject_reason_id_14   \n",
              "1                          0.0                          0.0   \n",
              "\n",
              "                           100                          101  \\\n",
              "0  request_reject_reason_id_12  request_reject_reason_id_10   \n",
              "1                          0.0                          0.0   \n",
              "\n",
              "                          102  \n",
              "0  event_View Request Details  \n",
              "1                         0.0  \n",
              "\n",
              "[2 rows x 103 columns]"
            ],
            "text/html": [
              "\n",
              "  <div id=\"df-6022a901-cb97-494b-a5e9-b7f323183779\">\n",
              "    <div class=\"colab-df-container\">\n",
              "      <div>\n",
              "<style scoped>\n",
              "    .dataframe tbody tr th:only-of-type {\n",
              "        vertical-align: middle;\n",
              "    }\n",
              "\n",
              "    .dataframe tbody tr th {\n",
              "        vertical-align: top;\n",
              "    }\n",
              "\n",
              "    .dataframe thead th {\n",
              "        text-align: right;\n",
              "    }\n",
              "</style>\n",
              "<table border=\"1\" class=\"dataframe\">\n",
              "  <thead>\n",
              "    <tr style=\"text-align: right;\">\n",
              "      <th></th>\n",
              "      <th>0</th>\n",
              "      <th>1</th>\n",
              "      <th>2</th>\n",
              "      <th>3</th>\n",
              "      <th>4</th>\n",
              "      <th>5</th>\n",
              "      <th>6</th>\n",
              "      <th>7</th>\n",
              "      <th>8</th>\n",
              "      <th>9</th>\n",
              "      <th>...</th>\n",
              "      <th>93</th>\n",
              "      <th>94</th>\n",
              "      <th>95</th>\n",
              "      <th>96</th>\n",
              "      <th>97</th>\n",
              "      <th>98</th>\n",
              "      <th>99</th>\n",
              "      <th>100</th>\n",
              "      <th>101</th>\n",
              "      <th>102</th>\n",
              "    </tr>\n",
              "  </thead>\n",
              "  <tbody>\n",
              "    <tr>\n",
              "      <th>0</th>\n",
              "      <td>manual_request_1</td>\n",
              "      <td>user_has_visited_1</td>\n",
              "      <td>total_loss_insurance_1</td>\n",
              "      <td>per_diem</td>\n",
              "      <td>auto_time_out_expires_soon_1</td>\n",
              "      <td>equipment_count</td>\n",
              "      <td>request_reject_reason_id_43</td>\n",
              "      <td>free_days</td>\n",
              "      <td>pickup_charge</td>\n",
              "      <td>version_13</td>\n",
              "      <td>...</td>\n",
              "      <td>event_Update Request</td>\n",
              "      <td>request_reject_reason_id_22</td>\n",
              "      <td>request_reject_reason_id_19</td>\n",
              "      <td>equipment_type_TWENTY_DRY_CONTAINER</td>\n",
              "      <td>request_reject_reason_id_16</td>\n",
              "      <td>request_reject_reason_id_15</td>\n",
              "      <td>request_reject_reason_id_14</td>\n",
              "      <td>request_reject_reason_id_12</td>\n",
              "      <td>request_reject_reason_id_10</td>\n",
              "      <td>event_View Request Details</td>\n",
              "    </tr>\n",
              "    <tr>\n",
              "      <th>1</th>\n",
              "      <td>0.339627</td>\n",
              "      <td>0.140634</td>\n",
              "      <td>0.072355</td>\n",
              "      <td>0.049989</td>\n",
              "      <td>0.043592</td>\n",
              "      <td>0.039713</td>\n",
              "      <td>0.029969</td>\n",
              "      <td>0.02819</td>\n",
              "      <td>0.024912</td>\n",
              "      <td>0.021419</td>\n",
              "      <td>...</td>\n",
              "      <td>0.0</td>\n",
              "      <td>0.0</td>\n",
              "      <td>0.0</td>\n",
              "      <td>0.0</td>\n",
              "      <td>0.0</td>\n",
              "      <td>0.0</td>\n",
              "      <td>0.0</td>\n",
              "      <td>0.0</td>\n",
              "      <td>0.0</td>\n",
              "      <td>0.0</td>\n",
              "    </tr>\n",
              "  </tbody>\n",
              "</table>\n",
              "<p>2 rows × 103 columns</p>\n",
              "</div>\n",
              "      <button class=\"colab-df-convert\" onclick=\"convertToInteractive('df-6022a901-cb97-494b-a5e9-b7f323183779')\"\n",
              "              title=\"Convert this dataframe to an interactive table.\"\n",
              "              style=\"display:none;\">\n",
              "        \n",
              "  <svg xmlns=\"http://www.w3.org/2000/svg\" height=\"24px\"viewBox=\"0 0 24 24\"\n",
              "       width=\"24px\">\n",
              "    <path d=\"M0 0h24v24H0V0z\" fill=\"none\"/>\n",
              "    <path d=\"M18.56 5.44l.94 2.06.94-2.06 2.06-.94-2.06-.94-.94-2.06-.94 2.06-2.06.94zm-11 1L8.5 8.5l.94-2.06 2.06-.94-2.06-.94L8.5 2.5l-.94 2.06-2.06.94zm10 10l.94 2.06.94-2.06 2.06-.94-2.06-.94-.94-2.06-.94 2.06-2.06.94z\"/><path d=\"M17.41 7.96l-1.37-1.37c-.4-.4-.92-.59-1.43-.59-.52 0-1.04.2-1.43.59L10.3 9.45l-7.72 7.72c-.78.78-.78 2.05 0 2.83L4 21.41c.39.39.9.59 1.41.59.51 0 1.02-.2 1.41-.59l7.78-7.78 2.81-2.81c.8-.78.8-2.07 0-2.86zM5.41 20L4 18.59l7.72-7.72 1.47 1.35L5.41 20z\"/>\n",
              "  </svg>\n",
              "      </button>\n",
              "      \n",
              "  <style>\n",
              "    .colab-df-container {\n",
              "      display:flex;\n",
              "      flex-wrap:wrap;\n",
              "      gap: 12px;\n",
              "    }\n",
              "\n",
              "    .colab-df-convert {\n",
              "      background-color: #E8F0FE;\n",
              "      border: none;\n",
              "      border-radius: 50%;\n",
              "      cursor: pointer;\n",
              "      display: none;\n",
              "      fill: #1967D2;\n",
              "      height: 32px;\n",
              "      padding: 0 0 0 0;\n",
              "      width: 32px;\n",
              "    }\n",
              "\n",
              "    .colab-df-convert:hover {\n",
              "      background-color: #E2EBFA;\n",
              "      box-shadow: 0px 1px 2px rgba(60, 64, 67, 0.3), 0px 1px 3px 1px rgba(60, 64, 67, 0.15);\n",
              "      fill: #174EA6;\n",
              "    }\n",
              "\n",
              "    [theme=dark] .colab-df-convert {\n",
              "      background-color: #3B4455;\n",
              "      fill: #D2E3FC;\n",
              "    }\n",
              "\n",
              "    [theme=dark] .colab-df-convert:hover {\n",
              "      background-color: #434B5C;\n",
              "      box-shadow: 0px 1px 3px 1px rgba(0, 0, 0, 0.15);\n",
              "      filter: drop-shadow(0px 1px 2px rgba(0, 0, 0, 0.3));\n",
              "      fill: #FFFFFF;\n",
              "    }\n",
              "  </style>\n",
              "\n",
              "      <script>\n",
              "        const buttonEl =\n",
              "          document.querySelector('#df-6022a901-cb97-494b-a5e9-b7f323183779 button.colab-df-convert');\n",
              "        buttonEl.style.display =\n",
              "          google.colab.kernel.accessAllowed ? 'block' : 'none';\n",
              "\n",
              "        async function convertToInteractive(key) {\n",
              "          const element = document.querySelector('#df-6022a901-cb97-494b-a5e9-b7f323183779');\n",
              "          const dataTable =\n",
              "            await google.colab.kernel.invokeFunction('convertToInteractive',\n",
              "                                                     [key], {});\n",
              "          if (!dataTable) return;\n",
              "\n",
              "          const docLinkHtml = 'Like what you see? Visit the ' +\n",
              "            '<a target=\"_blank\" href=https://colab.research.google.com/notebooks/data_table.ipynb>data table notebook</a>'\n",
              "            + ' to learn more about interactive tables.';\n",
              "          element.innerHTML = '';\n",
              "          dataTable['output_type'] = 'display_data';\n",
              "          await google.colab.output.renderOutput(dataTable, element);\n",
              "          const docLink = document.createElement('div');\n",
              "          docLink.innerHTML = docLinkHtml;\n",
              "          element.appendChild(docLink);\n",
              "        }\n",
              "      </script>\n",
              "    </div>\n",
              "  </div>\n",
              "  "
            ]
          },
          "metadata": {},
          "execution_count": 206
        }
      ]
    },
    {
      "cell_type": "code",
      "source": [
        "import plotly.express as px\n",
        "plt.rcParams[\"figure.figsize\"] = (20,20)\n",
        "plt.title('Feature Importances')\n",
        "plt.barh(range(len(indices)), importances[indices], color='black')\n",
        "plt.yticks(range(len(indices)), [features[i] for i in indices])\n",
        "plt.xlabel('Relative Importance')\n",
        "plt.show()"
      ],
      "metadata": {
        "colab": {
          "base_uri": "https://localhost:8080/",
          "height": 1000
        },
        "id": "dc0RTJFVf4ba",
        "outputId": "c086e896-f8ae-4f00-e5ed-1a5551bed2c1"
      },
      "execution_count": 212,
      "outputs": [
        {
          "output_type": "display_data",
          "data": {
            "text/plain": [
              "<Figure size 1440x1440 with 1 Axes>"
            ],
            "image/png": "[encoded data removed]"
          },
          "metadata": {
            "needs_background": "light"
          }
        }
      ]
    },
    {
      "cell_type": "code",
      "source": [
        "plot_2 = plot_2.iloc[:,0:5]"
      ],
      "metadata": {
        "id": "paIFd3kBfSb6"
      },
      "execution_count": 202,
      "outputs": []
    },
    {
      "cell_type": "code",
      "source": [
        "plot_2.to_csv('plt_wo_tracking.csv')"
      ],
      "metadata": {
        "id": "1RuG0Xtuakvr"
      },
      "execution_count": 214,
      "outputs": []
    }
  ]
}